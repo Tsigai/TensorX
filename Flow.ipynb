{
 "cells": [
  {
   "cell_type": "code",
   "execution_count": 31,
   "metadata": {},
   "outputs": [
    {
     "data": {
      "text/plain": [
       "'2.10.0'"
      ]
     },
     "execution_count": 31,
     "metadata": {},
     "output_type": "execute_result"
    }
   ],
   "source": [
    "import tensorflow as tf\n",
    "tf.__version__"
   ]
  },
  {
   "cell_type": "code",
   "execution_count": 32,
   "metadata": {},
   "outputs": [],
   "source": [
    "import pandas as pd\n",
    "\n",
    "A = {\n",
    "    \"Buah_A\" : [\"Apple\",\"Grape\",\"Cherry\"],\n",
    "    \"Terjual\" : [15, 20,10]\n",
    "}\n",
    "\n",
    "B = {\n",
    "    \"Buah_B\" : [\"Strawberry\", \"Pear\",\"Avocado\"],\n",
    "    \"Terjual\" : [20,22,18]\n",
    "}"
   ]
  },
  {
   "cell_type": "code",
   "execution_count": 36,
   "metadata": {},
   "outputs": [
    {
     "name": "stdout",
     "output_type": "stream",
     "text": [
      "{'Buah_A': ['Apple', 'Grape', 'Cherry'], 'Terjual': [15, 20, 10]}\n",
      "{'Buah_B': ['Strawberry', 'Pear', 'Avocado'], 'Terjual': [20, 22, 18]}\n"
     ]
    }
   ],
   "source": [
    "print(f\"{A}\\n{B}\")"
   ]
  },
  {
   "cell_type": "code",
   "execution_count": 41,
   "metadata": {},
   "outputs": [
    {
     "name": "stdout",
     "output_type": "stream",
     "text": [
      "   Buah_A  Terjual\n",
      "0   Apple       15\n",
      "1   Grape       20\n",
      "2  Cherry       10\n",
      "       Buah_B  Terjual\n",
      "0  Strawberry       20\n",
      "1        Pear       22\n",
      "2     Avocado       18\n"
     ]
    }
   ],
   "source": [
    "Table_A = pd.DataFrame(A)\n",
    "Table_B = pd.DataFrame(B)\n",
    "print(f\"{Table_A}\\n{Table_B}\")"
   ]
  },
  {
   "cell_type": "code",
   "execution_count": 34,
   "metadata": {},
   "outputs": [
    {
     "name": "stdout",
     "output_type": "stream",
     "text": [
      "tipe data A adalah <class 'dict'> \n",
      "tipe data table_A adalah <class 'pandas.core.frame.DataFrame'> \n",
      "tipe data B adalah <class 'dict'>\n",
      "tipe data table_B adalah <class 'pandas.core.frame.DataFrame'>\n"
     ]
    }
   ],
   "source": [
    "print(f\"tipe data A adalah {type(A)} \\ntipe data table_A adalah {type(Table_A)} \\ntipe data B adalah {type(B)}\\ntipe data table_B adalah {type(Table_B)}\")"
   ]
  },
  {
   "cell_type": "code",
   "execution_count": 24,
   "metadata": {},
   "outputs": [],
   "source": [
    "import numpy as np"
   ]
  },
  {
   "cell_type": "code",
   "execution_count": 30,
   "metadata": {},
   "outputs": [
    {
     "name": "stdout",
     "output_type": "stream",
     "text": [
      "[[9 4 2 4 1 8 6 5 2 8]\n",
      " [2 6 9 9 1 6 8 6 6 1]\n",
      " [6 5 1 1 5 2 4 3 9 1]\n",
      " [8 1 3 6 4 8 7 8 1 1]\n",
      " [8 9 8 2 9 4 5 2 9 1]\n",
      " [4 5 2 3 7 4 5 6 9 9]\n",
      " [7 1 5 4 8 4 9 2 4 4]\n",
      " [8 4 8 4 6 7 8 5 2 8]\n",
      " [1 7 4 9 6 6 3 9 6 1]\n",
      " [4 5 8 6 7 6 2 9 5 7]]\n",
      "<class 'numpy.ndarray'>\n"
     ]
    }
   ],
   "source": [
    "Angka = np.random.randint(1,10,[10,10])\n",
    "print(f\"{Angka}\\n{type(Angka)}\")"
   ]
  },
  {
   "cell_type": "code",
   "execution_count": 43,
   "metadata": {},
   "outputs": [
    {
     "name": "stdout",
     "output_type": "stream",
     "text": [
      "[[1 7 4 9 6 6 3 9 6 1]\n",
      " [7 1 5 4 8 4 9 2 4 4]\n",
      " [8 4 8 4 6 7 8 5 2 8]\n",
      " [9 4 2 4 1 8 6 5 2 8]\n",
      " [6 5 1 1 5 2 4 3 9 1]\n",
      " [8 9 8 2 9 4 5 2 9 1]\n",
      " [2 6 9 9 1 6 8 6 6 1]\n",
      " [4 5 2 3 7 4 5 6 9 9]\n",
      " [8 1 3 6 4 8 7 8 1 1]\n",
      " [4 5 8 6 7 6 2 9 5 7]]\n",
      "<class 'tensorflow.python.framework.ops.EagerTensor'>\n"
     ]
    }
   ],
   "source": [
    "Angka_Tensor = tf.random.shuffle(Angka)\n",
    "print(f\"{Angka_Tensor}\\n{type(Angka_Tensor)}\")"
   ]
  },
  {
   "cell_type": "code",
   "execution_count": 73,
   "metadata": {},
   "outputs": [
    {
     "data": {
      "text/plain": [
       "<tf.Tensor: shape=(10, 10), dtype=float32, numpy=\n",
       "array([[8.59947  , 2.4828775, 2.6922014, 4.3278146, 9.848661 , 4.070772 ,\n",
       "        6.17448  , 7.6065407, 2.734737 , 3.9130454],\n",
       "       [3.9367142, 4.415221 , 7.2498484, 1.5104727, 5.5744324, 6.852828 ,\n",
       "        3.643642 , 3.229949 , 1.903766 , 5.8255043],\n",
       "       [8.701809 , 2.3831015, 4.347874 , 5.6199775, 8.076658 , 5.1532407,\n",
       "        2.6870515, 1.0603218, 8.695088 , 8.426857 ],\n",
       "       [6.51717  , 6.0765085, 6.1761475, 9.0964   , 5.6799903, 6.612767 ,\n",
       "        4.106084 , 3.506784 , 5.214775 , 6.160541 ],\n",
       "       [4.350516 , 6.946822 , 5.61944  , 9.738677 , 1.0399435, 1.7795894,\n",
       "        1.2935463, 3.9597318, 7.698891 , 2.2527814],\n",
       "       [7.9415097, 6.9334   , 8.488716 , 2.5027957, 1.3794382, 9.8299265,\n",
       "        6.1816063, 9.208525 , 2.2787561, 2.3061018],\n",
       "       [2.2542834, 3.9740129, 9.520844 , 8.914557 , 7.5970016, 6.917571 ,\n",
       "        2.1219711, 9.732755 , 8.507783 , 7.3385086],\n",
       "       [5.6833687, 2.9352021, 3.8178935, 7.38334  , 3.9931285, 8.929415 ,\n",
       "        9.282314 , 7.7470627, 6.4887943, 3.7813349],\n",
       "       [8.356147 , 1.3434054, 6.6913857, 5.871041 , 7.213639 , 9.146769 ,\n",
       "        9.356665 , 6.8885536, 9.689547 , 8.8846855],\n",
       "       [8.929438 , 5.068112 , 3.8146222, 4.3803525, 3.8922958, 7.600439 ,\n",
       "        3.3181689, 8.761431 , 5.624314 , 7.912189 ]], dtype=float32)>"
      ]
     },
     "execution_count": 73,
     "metadata": {},
     "output_type": "execute_result"
    }
   ],
   "source": [
    "Tensor_baru = tf.random.uniform([10,10],minval=1,maxval=10)\n",
    "Tensor_baru"
   ]
  },
  {
   "cell_type": "code",
   "execution_count": 79,
   "metadata": {},
   "outputs": [
    {
     "name": "stdout",
     "output_type": "stream",
     "text": [
      "Nilai tertinggi matrix Angka : [0 4 1 1 4 0 6 8 2 5]\n",
      "Nilai tertinggi matrix Angka : [3 5 6 0 5 3 1 0 4 7]\n",
      "Nilai tertinggi matrix Angka : [9 4 6 4 0 5 8 6 8 8]\n",
      "Nilai terendah matrix Angka : [8 3 2 2 0 2 9 4 3 1]\n",
      "Nilai terendah matrix Angka : [0 1 4 4 3 4 9 1 8 0]\n",
      "Nilai terendah matrix Angka : [6 8 0 1 4 4 4 2 1 4]\n"
     ]
    }
   ],
   "source": [
    "print(f\"Nilai tertinggi matrix Angka : {tf.argmax(Angka)}\\nNilai tertinggi matrix Angka : {tf.argmax(Angka_Tensor)}\\nNilai tertinggi matrix Angka : {tf.argmax(Tensor_baru)}\")\n",
    "print(f\"Nilai terendah matrix Angka : {tf.argmin(Angka)}\\nNilai terendah matrix Angka : {tf.argmin(Angka_Tensor)}\\nNilai terendah matrix Angka : {tf.argmin(Tensor_baru)}\")"
   ]
  }
 ],
 "metadata": {
  "kernelspec": {
   "display_name": "Python 3",
   "language": "python",
   "name": "python3"
  },
  "language_info": {
   "codemirror_mode": {
    "name": "ipython",
    "version": 3
   },
   "file_extension": ".py",
   "mimetype": "text/x-python",
   "name": "python",
   "nbconvert_exporter": "python",
   "pygments_lexer": "ipython3",
   "version": "3.10.7"
  },
  "orig_nbformat": 4
 },
 "nbformat": 4,
 "nbformat_minor": 2
}
